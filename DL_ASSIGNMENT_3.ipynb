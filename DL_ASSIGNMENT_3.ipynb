{
  "nbformat": 4,
  "nbformat_minor": 0,
  "metadata": {
    "colab": {
      "provenance": [],
      "mount_file_id": "18GcUbAxBGBvz7_NMu36FSKEBCxYNuHhy",
      "authorship_tag": "ABX9TyM73jgIlH+o3WvqUKWVFqJl",
      "include_colab_link": true
    },
    "kernelspec": {
      "name": "python3",
      "display_name": "Python 3"
    },
    "language_info": {
      "name": "python"
    }
  },
  "cells": [
    {
      "cell_type": "markdown",
      "metadata": {
        "id": "view-in-github",
        "colab_type": "text"
      },
      "source": [
        "<a href=\"https://colab.research.google.com/github/gauravbyte/DL_Assignment_3/blob/master/DL_ASSIGNMENT_3.ipynb\" target=\"_parent\"><img src=\"https://colab.research.google.com/assets/colab-badge.svg\" alt=\"Open In Colab\"/></a>"
      ]
    },
    {
      "cell_type": "code",
      "execution_count": null,
      "metadata": {
        "id": "Dxbi1m3s8Cow"
      },
      "outputs": [],
      "source": [
        "import numpy as np # linear algebra\n",
        "import pandas as pd # data processing, CSV file I/O (e.g. pd.read_csv)"
      ]
    },
    {
      "cell_type": "code",
      "source": [
        "df_train = pd.read_csv(\"/content/drive/MyDrive/DL_ASSIGNMENT_3/aksharantar_sampled/hin/hin_train.csv\")\n",
        "df_test = pd.read_csv(\"/content/drive/MyDrive/DL_ASSIGNMENT_3/aksharantar_sampled/hin/hin_test.csv\")\n",
        "df_valid = pd.read_csv(\"/content/drive/MyDrive/DL_ASSIGNMENT_3/aksharantar_sampled/hin/hin_valid.csv\")"
      ],
      "metadata": {
        "id": "hpc3SG6c9WwD"
      },
      "execution_count": null,
      "outputs": []
    },
    {
      "cell_type": "code",
      "source": [
        "print(df_train)\n",
        "print(df_test)\n",
        "print(df_valid)"
      ],
      "metadata": {
        "id": "1ubJsPvQ9lvI"
      },
      "execution_count": null,
      "outputs": []
    },
    {
      "cell_type": "code",
      "source": [],
      "metadata": {
        "id": "TAuPMzfy9tLm"
      },
      "execution_count": null,
      "outputs": []
    }
  ]
}