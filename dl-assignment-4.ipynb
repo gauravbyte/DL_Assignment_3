{
 "cells": [
  {
   "cell_type": "code",
   "execution_count": 1,
   "id": "6fbdd739",
   "metadata": {
    "_cell_guid": "b1076dfc-b9ad-4769-8c92-a6c4dae69d19",
    "_uuid": "8f2839f25d086af736a60e9eeb907d3b93b6e0e5",
    "execution": {
     "iopub.execute_input": "2023-04-24T10:04:29.839100Z",
     "iopub.status.busy": "2023-04-24T10:04:29.838597Z",
     "iopub.status.idle": "2023-04-24T10:04:29.925406Z",
     "shell.execute_reply": "2023-04-24T10:04:29.923894Z"
    },
    "papermill": {
     "duration": 0.095705,
     "end_time": "2023-04-24T10:04:29.928790",
     "exception": false,
     "start_time": "2023-04-24T10:04:29.833085",
     "status": "completed"
    },
    "tags": []
   },
   "outputs": [],
   "source": [
    "# This Python 3 environment comes with many helpful analytics libraries installed\n",
    "# It is defined by the kaggle/python Docker image: https://github.com/kaggle/docker-python\n",
    "# For example, here's several helpful packages to load\n",
    "\n",
    "import numpy as np # linear algebra\n",
    "import pandas as pd # data processing, CSV file I/O (e.g. pd.read_csv)\n",
    "\n",
    "# Input data files are available in the read-only \"../input/\" directory\n",
    "# For example, running this (by clicking run or pressing Shift+Enter) will list all files under the input directory\n",
    "\n",
    "import os\n",
    "for dirname, _, filenames in os.walk('/kaggle/input'):\n",
    "    for filename in filenames:\n",
    "        os.path.join(dirname, filename)\n",
    "\n",
    "# You can write up to 20GB to the current directory (/kaggle/working/) that gets preserved as output when you create a version using \"Save & Run All\" \n",
    "# You can also write temporary files to /kaggle/temp/, but they won't be saved outside of the current session"
   ]
  },
  {
   "cell_type": "code",
   "execution_count": 2,
   "id": "43e289a3",
   "metadata": {
    "execution": {
     "iopub.execute_input": "2023-04-24T10:04:29.935909Z",
     "iopub.status.busy": "2023-04-24T10:04:29.935456Z",
     "iopub.status.idle": "2023-04-24T10:04:30.072759Z",
     "shell.execute_reply": "2023-04-24T10:04:30.071459Z"
    },
    "papermill": {
     "duration": 0.144556,
     "end_time": "2023-04-24T10:04:30.075955",
     "exception": false,
     "start_time": "2023-04-24T10:04:29.931399",
     "status": "completed"
    },
    "tags": []
   },
   "outputs": [],
   "source": [
    "\n",
    "df_train = pd.read_csv(\"/kaggle/input/aksharantar/aksharantar_sampled/mai/mai_train.csv\")\n",
    "df_test = pd.read_csv('/kaggle/input/aksharantar/aksharantar_sampled/mai/mai_test.csv')\n",
    "df_valid = pd.read_csv('/kaggle/input/aksharantar/aksharantar_sampled/mar/mar_valid.csv')"
   ]
  },
  {
   "cell_type": "code",
   "execution_count": 3,
   "id": "517e99fe",
   "metadata": {
    "execution": {
     "iopub.execute_input": "2023-04-24T10:04:30.082853Z",
     "iopub.status.busy": "2023-04-24T10:04:30.082393Z",
     "iopub.status.idle": "2023-04-24T10:04:30.110971Z",
     "shell.execute_reply": "2023-04-24T10:04:30.108962Z"
    },
    "papermill": {
     "duration": 0.035569,
     "end_time": "2023-04-24T10:04:30.114089",
     "exception": false,
     "start_time": "2023-04-24T10:04:30.078520",
     "status": "completed"
    },
    "tags": []
   },
   "outputs": [
    {
     "name": "stdout",
     "output_type": "stream",
     "text": [
      "               chainij       चाइनिज\n",
      "0            deyuralee      देउराली\n",
      "1             dekhaint       देखैंत\n",
      "2          tarkariwali   तरकारीवाली\n",
      "3          kathapathme     कथापाठमे\n",
      "4             dehalvee       देहलवी\n",
      "...                ...          ...\n",
      "51194      mahaamnaaka      महामनाक\n",
      "51195           nandao        नन्दओ\n",
      "51196  upbhoktaasabhak  उपभोक्तासभक\n",
      "51197        kirauntee      किराँती\n",
      "51198     ajeetnarayan   अजीतनारायण\n",
      "\n",
      "[51199 rows x 2 columns]\n",
      "         kaaranean      कारणेँ\n",
      "0           odisha       ओडिशा\n",
      "1         pembroke    पेमब्रोक\n",
      "2           baxter     बैक्सटर\n",
      "3        nizamabad   निजामाबाद\n",
      "4         umedwaar     उमेदवार\n",
      "...            ...         ...\n",
      "4090  ganganarayan  गंगानारायण\n",
      "4091      longview    लोंगव्यू\n",
      "4092        andhra       आंध्र\n",
      "4093          mays         मेज\n",
      "4094     frederick    फ्रेडरिक\n",
      "\n",
      "[4095 rows x 2 columns]\n",
      "      garvyabarobarach  गारव्याबरोबरच\n",
      "0                  reo           रियो\n",
      "1         sangrahalaye     संग्रहालये\n",
      "2                sidni          सिडनी\n",
      "3             dastavej       दस्तावेज\n",
      "4           guntaliyet      गुंतलीयेत\n",
      "...                ...            ...\n",
      "4090          svarivar       स्वारीवर\n",
      "4091     samadhisthiti    समाधिस्थिती\n",
      "4092      friendlistit  फ्रेंडलिस्टीत\n",
      "4093  ghatanambabatcha    घटनांबाबतचा\n",
      "4094      banlyanantar     बनल्यानंतर\n",
      "\n",
      "[4095 rows x 2 columns]\n"
     ]
    }
   ],
   "source": [
    "print(df_train)\n",
    "print(df_test)\n",
    "print(df_valid)"
   ]
  },
  {
   "cell_type": "code",
   "execution_count": null,
   "id": "b4a6100d",
   "metadata": {
    "papermill": {
     "duration": 0.002389,
     "end_time": "2023-04-24T10:04:30.119099",
     "exception": false,
     "start_time": "2023-04-24T10:04:30.116710",
     "status": "completed"
    },
    "tags": []
   },
   "outputs": [],
   "source": []
  }
 ],
 "metadata": {
  "kernelspec": {
   "display_name": "Python 3",
   "language": "python",
   "name": "python3"
  },
  "language_info": {
   "codemirror_mode": {
    "name": "ipython",
    "version": 3
   },
   "file_extension": ".py",
   "mimetype": "text/x-python",
   "name": "python",
   "nbconvert_exporter": "python",
   "pygments_lexer": "ipython3",
   "version": "3.7.12"
  },
  "papermill": {
   "default_parameters": {},
   "duration": 12.368785,
   "end_time": "2023-04-24T10:04:31.047308",
   "environment_variables": {},
   "exception": null,
   "input_path": "__notebook__.ipynb",
   "output_path": "__notebook__.ipynb",
   "parameters": {},
   "start_time": "2023-04-24T10:04:18.678523",
   "version": "2.4.0"
  }
 },
 "nbformat": 4,
 "nbformat_minor": 5
}
