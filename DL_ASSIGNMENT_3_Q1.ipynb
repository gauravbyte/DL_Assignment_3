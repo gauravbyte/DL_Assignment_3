{
  "nbformat": 4,
  "nbformat_minor": 0,
  "metadata": {
    "colab": {
      "provenance": [],
      "mount_file_id": "18GcUbAxBGBvz7_NMu36FSKEBCxYNuHhy",
      "authorship_tag": "ABX9TyM73jgIlH+o3WvqUKWVFqJl",
      "include_colab_link": true
    },
    "kernelspec": {
      "name": "python3",
      "display_name": "Python 3"
    },
    "language_info": {
      "name": "python"
    }
  },
  "cells": [
    {
      "cell_type": "markdown",
      "metadata": {
        "id": "view-in-github",
        "colab_type": "text"
      },
      "source": [
        "<a href=\"https://colab.research.google.com/github/gauravbyte/DL_Assignment_3/blob/master/DL_ASSIGNMENT_3_Q1.ipynb\" target=\"_parent\"><img src=\"https://colab.research.google.com/assets/colab-badge.svg\" alt=\"Open In Colab\"/></a>"
      ]
    },
    {
      "cell_type": "code",
      "execution_count": 1,
      "metadata": {
        "id": "Dxbi1m3s8Cow"
      },
      "outputs": [],
      "source": [
        "import numpy as np # linear algebra\n",
        "import pandas as pd # data processing, CSV file I/O (e.g. pd.read_csv)"
      ]
    },
    {
      "cell_type": "code",
      "source": [
        "df_train = pd.read_csv(\"/content/drive/MyDrive/DL_ASSIGNMENT_3/aksharantar_sampled/hin/hin_train.csv\")\n",
        "df_test = pd.read_csv(\"/content/drive/MyDrive/DL_ASSIGNMENT_3/aksharantar_sampled/hin/hin_test.csv\")\n",
        "df_valid = pd.read_csv(\"/content/drive/MyDrive/DL_ASSIGNMENT_3/aksharantar_sampled/hin/hin_valid.csv\")"
      ],
      "metadata": {
        "id": "hpc3SG6c9WwD"
      },
      "execution_count": 2,
      "outputs": []
    },
    {
      "cell_type": "code",
      "source": [
        "print(df_train)\n",
        "print(df_test)\n",
        "print(df_valid)"
      ],
      "metadata": {
        "colab": {
          "base_uri": "https://localhost:8080/"
        },
        "id": "1ubJsPvQ9lvI",
        "outputId": "7389d522-abe7-4636-c9c2-7b18d681e5f5"
      },
      "execution_count": 3,
      "outputs": [
        {
          "output_type": "stream",
          "name": "stdout",
          "text": [
            "       shastragaar शस्त्रागार\n",
            "0          bindhya   बिन्द्या\n",
            "1        kirankant   किरणकांत\n",
            "2      yagyopaveet  यज्ञोपवीत\n",
            "3          ratania    रटानिया\n",
            "4       vaganyache  वागण्याचे\n",
            "...            ...        ...\n",
            "51194        toned       टोंड\n",
            "51195   mutanaazaa   मुतनाज़ा\n",
            "51196    asahmaton    असहमतों\n",
            "51197    sulgaayin   सुलगायीं\n",
            "51198  anchuthengu  अंचुतेंगु\n",
            "\n",
            "[51199 rows x 2 columns]\n",
            "           thermax      थरमैक्स\n",
            "0        sikhaaega      सिखाएगा\n",
            "1            learn         लर्न\n",
            "2         twitters     ट्विटर्स\n",
            "3      tirunelveli  तिरुनेलवेली\n",
            "4     independence  इंडिपेंडेंस\n",
            "...            ...          ...\n",
            "4090       saflata       सफ़लता\n",
            "4091        shbana        शबाना\n",
            "4092  khaatootolaa     खातूटोला\n",
            "4093    shivastava     शिवास्तव\n",
            "4094  preranapuree  प्रेरणापुरी\n",
            "\n",
            "[4095 rows x 2 columns]\n",
            "         jaisawal       जयसवाल\n",
            "0           bajai         बजाई\n",
            "1       sanghthan        संघठन\n",
            "2         haiwaan        हैवान\n",
            "3         nilgiri      नीलगिरि\n",
            "4       drutgrami  द्रुतग्रामी\n",
            "...           ...          ...\n",
            "4090     paranshu       परांशु\n",
            "4091    romanchit     रोमांचित\n",
            "4092  ekamreshwar  एकाम्रेश्वर\n",
            "4093    bluetooth    ब्ल्यूटूथ\n",
            "4094    govindram   गोविंद्राम\n",
            "\n",
            "[4095 rows x 2 columns]\n"
          ]
        }
      ]
    },
    {
      "cell_type": "code",
      "source": [],
      "metadata": {
        "id": "TAuPMzfy9tLm"
      },
      "execution_count": null,
      "outputs": []
    }
  ]
}